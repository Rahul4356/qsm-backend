{
 "cells": [
  {
   "cell_type": "markdown",
   "id": "f44f6665",
   "metadata": {},
   "source": [
    "# Quantum Cryptography Testing Notebook\n",
    "\n",
    "This notebook demonstrates how to use the liboqs library for post-quantum cryptography, specifically:\n",
    "\n",
    "1. **ML-KEM-768** (previously known as Kyber-768) - A key encapsulation mechanism (KEM) \n",
    "   selected by NIST as a post-quantum standard\n",
    "   \n",
    "2. **Falcon-512** - A quantum-resistant digital signature algorithm also selected \n",
    "   by NIST as a post-quantum standard\n",
    "\n",
    "This notebook uses the direct liboqs Python bindings to demonstrate these algorithms."
   ]
  },
  {
   "cell_type": "code",
   "execution_count": 9,
   "id": "d635d9cb",
   "metadata": {},
   "outputs": [
    {
     "name": "stdout",
     "output_type": "stream",
     "text": [
      "OQS Version: 0.14.1-dev\n",
      "Available KEMs: ('BIKE-L1', 'BIKE-L3', 'BIKE-L5')\n",
      "Available Signatures: ('Dilithium2', 'Dilithium3', 'Dilithium5')\n"
     ]
    }
   ],
   "source": [
    "# Import the oqs library for quantum-safe cryptography\n",
    "import oqs\n",
    "\n",
    "# Display OQS version and available algorithms\n",
    "print(f\"OQS Version: {oqs.oqs_version()}\")\n",
    "print(f\"Available KEMs: {oqs.get_enabled_kem_mechanisms()[:3]}\")\n",
    "print(f\"Available Signatures: {oqs.get_enabled_sig_mechanisms()[:3]}\")"
   ]
  },
  {
   "cell_type": "code",
   "execution_count": 10,
   "id": "cb20fa68",
   "metadata": {},
   "outputs": [
    {
     "name": "stdout",
     "output_type": "stream",
     "text": [
      "ML-KEM-768 Public Key: 1184 bytes\n",
      "ML-KEM-768 Private Key: 2400 bytes\n",
      "Ciphertext: 1088 bytes\n",
      "Shared Secret: 32 bytes\n",
      "Decapsulated Secret: 32 bytes\n",
      "Secrets match: True\n",
      "Falcon-512 Public Key: 897 bytes\n",
      "Falcon-512 Private Key: 1281 bytes\n",
      "Signature size: 658 bytes\n",
      "Falcon-512 Signature Valid: True\n"
     ]
    }
   ],
   "source": [
    "# Direct test of oqs library without using service.py\n",
    "import oqs\n",
    "\n",
    "# Test ML-KEM (Kyber-768)\n",
    "algorithm = \"Kyber768\"  # ML-KEM-768 is called Kyber768 in the API\n",
    "\n",
    "# Generate keypair\n",
    "with oqs.KeyEncapsulation(algorithm) as kem:\n",
    "    public_key = kem.generate_keypair()  # This returns the public key\n",
    "    secret_key = kem.export_secret_key()  # Get the private key\n",
    "    \n",
    "print(f\"ML-KEM-768 Public Key: {len(public_key)} bytes\")\n",
    "print(f\"ML-KEM-768 Private Key: {len(secret_key)} bytes\")\n",
    "\n",
    "# Encapsulate (create shared secret)\n",
    "with oqs.KeyEncapsulation(algorithm) as kem:\n",
    "    ciphertext, shared_secret = kem.encap_secret(public_key)\n",
    "    \n",
    "print(f\"Ciphertext: {len(ciphertext)} bytes\")\n",
    "print(f\"Shared Secret: {len(shared_secret)} bytes\")\n",
    "\n",
    "# Decapsulate (recover shared secret)\n",
    "with oqs.KeyEncapsulation(algorithm, secret_key=secret_key) as kem:\n",
    "    decapsulated_secret = kem.decap_secret(ciphertext)\n",
    "    \n",
    "print(f\"Decapsulated Secret: {len(decapsulated_secret)} bytes\")\n",
    "print(f\"Secrets match: {shared_secret == decapsulated_secret}\")\n",
    "\n",
    "# Test Falcon-512\n",
    "sig_algorithm = \"Falcon-512\"\n",
    "\n",
    "# Generate signature keypair\n",
    "with oqs.Signature(sig_algorithm) as sig:\n",
    "    sig_public_key = sig.generate_keypair()  # This returns the public key\n",
    "    sig_secret_key = sig.export_secret_key()  # Get the private key\n",
    "    \n",
    "print(f\"Falcon-512 Public Key: {len(sig_public_key)} bytes\")\n",
    "print(f\"Falcon-512 Private Key: {len(sig_secret_key)} bytes\")\n",
    "\n",
    "# Sign a message\n",
    "message = b\"Test quantum signature\"\n",
    "with oqs.Signature(sig_algorithm, secret_key=sig_secret_key) as sig:\n",
    "    signature = sig.sign(message)\n",
    "    \n",
    "print(f\"Signature size: {len(signature)} bytes\")\n",
    "\n",
    "# Verify the signature\n",
    "with oqs.Signature(sig_algorithm) as sig:\n",
    "    is_valid = sig.verify(message, signature, sig_public_key)\n",
    "    \n",
    "print(f\"Falcon-512 Signature Valid: {is_valid}\")"
   ]
  },
  {
   "cell_type": "markdown",
   "id": "a8498608",
   "metadata": {},
   "source": [
    "## Direct Test of OQS Library\n",
    "\n",
    "Let's test the liboqs library directly without using our service.py wrapper. \n",
    "This demonstrates the core API for quantum-safe cryptography using ML-KEM-768 and Falcon-512."
   ]
  },
  {
   "cell_type": "code",
   "execution_count": 7,
   "id": "881fe018",
   "metadata": {},
   "outputs": [
    {
     "name": "stdout",
     "output_type": "stream",
     "text": [
      "['KeyEncapsulation', 'MechanismNotEnabledError', 'MechanismNotSupportedError', 'OQS_SUCCESS', 'OQS_VERSION', 'Signature', 'StatefulSignature', '__all__', '__builtins__', '__cached__', '__doc__', '__file__', '__loader__', '__name__', '__package__', '__path__', '__spec__', 'get_enabled_kem_mechanisms', 'get_enabled_sig_mechanisms', 'get_enabled_stateful_sig_mechanisms', 'get_supported_kem_mechanisms', 'get_supported_sig_mechanisms', 'get_supported_stateful_sig_mechanisms', 'is_kem_enabled', 'is_sig_enabled', 'native', 'oqs', 'oqs_python_version', 'oqs_version', 'sig_supports_context']\n"
     ]
    }
   ],
   "source": [
    "print(dir(oqs))"
   ]
  },
  {
   "cell_type": "code",
   "execution_count": 11,
   "id": "d3d9a80f",
   "metadata": {},
   "outputs": [
    {
     "name": "stdout",
     "output_type": "stream",
     "text": [
      "['__annotations__', '__class__', '__ctypes_from_outparam__', '__delattr__', '__dict__', '__dir__', '__doc__', '__enter__', '__eq__', '__exit__', '__format__', '__ge__', '__getattribute__', '__getstate__', '__gt__', '__hash__', '__init__', '__init_subclass__', '__le__', '__lt__', '__module__', '__ne__', '__new__', '__reduce__', '__reduce_ex__', '__repr__', '__setattr__', '__setstate__', '__sizeof__', '__str__', '__subclasshook__', '__weakref__', '_b_base_', '_b_needsfree_', '_fields_', '_objects', 'alg_version', 'claimed_nist_level', 'decap_secret', 'decaps_cb', 'encap_secret', 'encaps_cb', 'export_secret_key', 'free', 'generate_keypair', 'generate_keypair_seed', 'ind_cca', 'keypair_cb', 'keypair_derand_cb', 'length_ciphertext', 'length_keypair_seed', 'length_public_key', 'length_secret_key', 'length_shared_secret', 'method_name']\n"
     ]
    }
   ],
   "source": [
    "print(dir(oqs.KeyEncapsulation))"
   ]
  },
  {
   "cell_type": "markdown",
   "id": "9354d114",
   "metadata": {},
   "source": [
    "## Updating Service.py\n",
    "\n",
    "The error we encountered was that in our `service.py` file, the `ProductionMLKEM768` class was trying to use a non-existent method `export_public_key()`. \n",
    "\n",
    "To fix this, we need to modify the class to use the correct API. The public key is actually returned directly by the `generate_keypair()` method, so there's no need to call a separate export method.\n",
    "\n",
    "Here's how the fixed `generate_keypair()` method should look:\n",
    "\n",
    "```python\n",
    "def generate_keypair(self) -> Tuple[bytes, bytes]:\n",
    "    \"\"\"Generate ML-KEM-768 keypair using liboqs\"\"\"\n",
    "    with oqs.KeyEncapsulation(self.algorithm) as kem:\n",
    "        public_key = kem.generate_keypair()  # This already returns the public key\n",
    "        private_key = kem.export_secret_key()\n",
    "        \n",
    "    logger.info(f\"Generated ML-KEM-768: pub={len(public_key)}B, priv={len(private_key)}B\")\n",
    "    return public_key, private_key\n",
    "```\n",
    "\n",
    "Similarly, the Falcon signature class might need similar adjustments."
   ]
  },
  {
   "cell_type": "code",
   "execution_count": null,
   "id": "d05643af",
   "metadata": {},
   "outputs": [],
   "source": []
  }
 ],
 "metadata": {
  "kernelspec": {
   "display_name": "Python 3",
   "language": "python",
   "name": "python3"
  },
  "language_info": {
   "codemirror_mode": {
    "name": "ipython",
    "version": 3
   },
   "file_extension": ".py",
   "mimetype": "text/x-python",
   "name": "python",
   "nbconvert_exporter": "python",
   "pygments_lexer": "ipython3",
   "version": "3.11.13"
  }
 },
 "nbformat": 4,
 "nbformat_minor": 5
}
